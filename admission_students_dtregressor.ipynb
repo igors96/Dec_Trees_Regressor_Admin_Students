{
  "metadata": {
    "kernelspec": {
      "language": "python",
      "display_name": "Python 3",
      "name": "python3"
    },
    "language_info": {
      "pygments_lexer": "ipython3",
      "nbconvert_exporter": "python",
      "version": "3.6.4",
      "file_extension": ".py",
      "codemirror_mode": {
        "name": "ipython",
        "version": 3
      },
      "name": "python",
      "mimetype": "text/x-python"
    },
    "colab": {
      "provenance": [],
      "include_colab_link": true
    }
  },
  "nbformat_minor": 0,
  "nbformat": 4,
  "cells": [
    {
      "cell_type": "markdown",
      "metadata": {
        "id": "view-in-github",
        "colab_type": "text"
      },
      "source": [
        "<a href=\"https://colab.research.google.com/github/igors96/Dec_Trees_Regressor_Admin_Students/blob/main/admission_students_dtregressor.ipynb\" target=\"_parent\"><img src=\"https://colab.research.google.com/assets/colab-badge.svg\" alt=\"Open In Colab\"/></a>"
      ]
    },
    {
      "cell_type": "code",
      "source": [
        "from warnings import filterwarnings\n",
        "filterwarnings(\"ignore\")\n",
        "\n",
        "import pandas as pd\n",
        "arquivo = pd.read_csv('/content/Admission_Predict.csv')\n",
        "arquivo.drop([\"Serial No.\"], axis=1, inplace = True)\n",
        "arquivo.head()"
      ],
      "metadata": {
        "execution": {
          "iopub.status.busy": "2022-10-20T19:08:22.083066Z",
          "iopub.execute_input": "2022-10-20T19:08:22.083683Z",
          "iopub.status.idle": "2022-10-20T19:08:22.147971Z",
          "shell.execute_reply.started": "2022-10-20T19:08:22.083586Z",
          "shell.execute_reply": "2022-10-20T19:08:22.147044Z"
        },
        "trusted": true,
        "colab": {
          "base_uri": "https://localhost:8080/",
          "height": 206
        },
        "id": "0r8OucEgzrLQ",
        "outputId": "bd14ef15-39c1-4c9c-c9ce-fa7950d71406"
      },
      "execution_count": 1,
      "outputs": [
        {
          "output_type": "execute_result",
          "data": {
            "text/plain": [
              "   GRE Score  TOEFL Score  University Rating  SOP  LOR   CGPA  Research  \\\n",
              "0        337          118                  4  4.5   4.5  9.65         1   \n",
              "1        324          107                  4  4.0   4.5  8.87         1   \n",
              "2        316          104                  3  3.0   3.5  8.00         1   \n",
              "3        322          110                  3  3.5   2.5  8.67         1   \n",
              "4        314          103                  2  2.0   3.0  8.21         0   \n",
              "\n",
              "   Chance of Admit   \n",
              "0              0.92  \n",
              "1              0.76  \n",
              "2              0.72  \n",
              "3              0.80  \n",
              "4              0.65  "
            ],
            "text/html": [
              "\n",
              "  <div id=\"df-dd7ca7ed-a510-4f85-ab66-1af335c2b824\">\n",
              "    <div class=\"colab-df-container\">\n",
              "      <div>\n",
              "<style scoped>\n",
              "    .dataframe tbody tr th:only-of-type {\n",
              "        vertical-align: middle;\n",
              "    }\n",
              "\n",
              "    .dataframe tbody tr th {\n",
              "        vertical-align: top;\n",
              "    }\n",
              "\n",
              "    .dataframe thead th {\n",
              "        text-align: right;\n",
              "    }\n",
              "</style>\n",
              "<table border=\"1\" class=\"dataframe\">\n",
              "  <thead>\n",
              "    <tr style=\"text-align: right;\">\n",
              "      <th></th>\n",
              "      <th>GRE Score</th>\n",
              "      <th>TOEFL Score</th>\n",
              "      <th>University Rating</th>\n",
              "      <th>SOP</th>\n",
              "      <th>LOR</th>\n",
              "      <th>CGPA</th>\n",
              "      <th>Research</th>\n",
              "      <th>Chance of Admit</th>\n",
              "    </tr>\n",
              "  </thead>\n",
              "  <tbody>\n",
              "    <tr>\n",
              "      <th>0</th>\n",
              "      <td>337</td>\n",
              "      <td>118</td>\n",
              "      <td>4</td>\n",
              "      <td>4.5</td>\n",
              "      <td>4.5</td>\n",
              "      <td>9.65</td>\n",
              "      <td>1</td>\n",
              "      <td>0.92</td>\n",
              "    </tr>\n",
              "    <tr>\n",
              "      <th>1</th>\n",
              "      <td>324</td>\n",
              "      <td>107</td>\n",
              "      <td>4</td>\n",
              "      <td>4.0</td>\n",
              "      <td>4.5</td>\n",
              "      <td>8.87</td>\n",
              "      <td>1</td>\n",
              "      <td>0.76</td>\n",
              "    </tr>\n",
              "    <tr>\n",
              "      <th>2</th>\n",
              "      <td>316</td>\n",
              "      <td>104</td>\n",
              "      <td>3</td>\n",
              "      <td>3.0</td>\n",
              "      <td>3.5</td>\n",
              "      <td>8.00</td>\n",
              "      <td>1</td>\n",
              "      <td>0.72</td>\n",
              "    </tr>\n",
              "    <tr>\n",
              "      <th>3</th>\n",
              "      <td>322</td>\n",
              "      <td>110</td>\n",
              "      <td>3</td>\n",
              "      <td>3.5</td>\n",
              "      <td>2.5</td>\n",
              "      <td>8.67</td>\n",
              "      <td>1</td>\n",
              "      <td>0.80</td>\n",
              "    </tr>\n",
              "    <tr>\n",
              "      <th>4</th>\n",
              "      <td>314</td>\n",
              "      <td>103</td>\n",
              "      <td>2</td>\n",
              "      <td>2.0</td>\n",
              "      <td>3.0</td>\n",
              "      <td>8.21</td>\n",
              "      <td>0</td>\n",
              "      <td>0.65</td>\n",
              "    </tr>\n",
              "  </tbody>\n",
              "</table>\n",
              "</div>\n",
              "      <button class=\"colab-df-convert\" onclick=\"convertToInteractive('df-dd7ca7ed-a510-4f85-ab66-1af335c2b824')\"\n",
              "              title=\"Convert this dataframe to an interactive table.\"\n",
              "              style=\"display:none;\">\n",
              "        \n",
              "  <svg xmlns=\"http://www.w3.org/2000/svg\" height=\"24px\"viewBox=\"0 0 24 24\"\n",
              "       width=\"24px\">\n",
              "    <path d=\"M0 0h24v24H0V0z\" fill=\"none\"/>\n",
              "    <path d=\"M18.56 5.44l.94 2.06.94-2.06 2.06-.94-2.06-.94-.94-2.06-.94 2.06-2.06.94zm-11 1L8.5 8.5l.94-2.06 2.06-.94-2.06-.94L8.5 2.5l-.94 2.06-2.06.94zm10 10l.94 2.06.94-2.06 2.06-.94-2.06-.94-.94-2.06-.94 2.06-2.06.94z\"/><path d=\"M17.41 7.96l-1.37-1.37c-.4-.4-.92-.59-1.43-.59-.52 0-1.04.2-1.43.59L10.3 9.45l-7.72 7.72c-.78.78-.78 2.05 0 2.83L4 21.41c.39.39.9.59 1.41.59.51 0 1.02-.2 1.41-.59l7.78-7.78 2.81-2.81c.8-.78.8-2.07 0-2.86zM5.41 20L4 18.59l7.72-7.72 1.47 1.35L5.41 20z\"/>\n",
              "  </svg>\n",
              "      </button>\n",
              "      \n",
              "  <style>\n",
              "    .colab-df-container {\n",
              "      display:flex;\n",
              "      flex-wrap:wrap;\n",
              "      gap: 12px;\n",
              "    }\n",
              "\n",
              "    .colab-df-convert {\n",
              "      background-color: #E8F0FE;\n",
              "      border: none;\n",
              "      border-radius: 50%;\n",
              "      cursor: pointer;\n",
              "      display: none;\n",
              "      fill: #1967D2;\n",
              "      height: 32px;\n",
              "      padding: 0 0 0 0;\n",
              "      width: 32px;\n",
              "    }\n",
              "\n",
              "    .colab-df-convert:hover {\n",
              "      background-color: #E2EBFA;\n",
              "      box-shadow: 0px 1px 2px rgba(60, 64, 67, 0.3), 0px 1px 3px 1px rgba(60, 64, 67, 0.15);\n",
              "      fill: #174EA6;\n",
              "    }\n",
              "\n",
              "    [theme=dark] .colab-df-convert {\n",
              "      background-color: #3B4455;\n",
              "      fill: #D2E3FC;\n",
              "    }\n",
              "\n",
              "    [theme=dark] .colab-df-convert:hover {\n",
              "      background-color: #434B5C;\n",
              "      box-shadow: 0px 1px 3px 1px rgba(0, 0, 0, 0.15);\n",
              "      filter: drop-shadow(0px 1px 2px rgba(0, 0, 0, 0.3));\n",
              "      fill: #FFFFFF;\n",
              "    }\n",
              "  </style>\n",
              "\n",
              "      <script>\n",
              "        const buttonEl =\n",
              "          document.querySelector('#df-dd7ca7ed-a510-4f85-ab66-1af335c2b824 button.colab-df-convert');\n",
              "        buttonEl.style.display =\n",
              "          google.colab.kernel.accessAllowed ? 'block' : 'none';\n",
              "\n",
              "        async function convertToInteractive(key) {\n",
              "          const element = document.querySelector('#df-dd7ca7ed-a510-4f85-ab66-1af335c2b824');\n",
              "          const dataTable =\n",
              "            await google.colab.kernel.invokeFunction('convertToInteractive',\n",
              "                                                     [key], {});\n",
              "          if (!dataTable) return;\n",
              "\n",
              "          const docLinkHtml = 'Like what you see? Visit the ' +\n",
              "            '<a target=\"_blank\" href=https://colab.research.google.com/notebooks/data_table.ipynb>data table notebook</a>'\n",
              "            + ' to learn more about interactive tables.';\n",
              "          element.innerHTML = '';\n",
              "          dataTable['output_type'] = 'display_data';\n",
              "          await google.colab.output.renderOutput(dataTable, element);\n",
              "          const docLink = document.createElement('div');\n",
              "          docLink.innerHTML = docLinkHtml;\n",
              "          element.appendChild(docLink);\n",
              "        }\n",
              "      </script>\n",
              "    </div>\n",
              "  </div>\n",
              "  "
            ]
          },
          "metadata": {},
          "execution_count": 1
        }
      ]
    },
    {
      "cell_type": "code",
      "source": [
        "x = arquivo.drop('Chance of Admit ', axis = 1)\n",
        "y = arquivo['Chance of Admit ']"
      ],
      "metadata": {
        "execution": {
          "iopub.status.busy": "2022-10-20T19:08:22.149729Z",
          "iopub.execute_input": "2022-10-20T19:08:22.150043Z",
          "iopub.status.idle": "2022-10-20T19:08:22.155801Z",
          "shell.execute_reply.started": "2022-10-20T19:08:22.150005Z",
          "shell.execute_reply": "2022-10-20T19:08:22.154960Z"
        },
        "trusted": true,
        "id": "-VSHML5uzrLc"
      },
      "execution_count": 2,
      "outputs": []
    },
    {
      "cell_type": "code",
      "source": [
        "from sklearn.tree import DecisionTreeRegressor\n",
        "from sklearn.model_selection import cross_val_score\n",
        "from sklearn.model_selection import KFold\n",
        "\n",
        "kfold = KFold(n_splits = 5)\n",
        "\n",
        "modelo = DecisionTreeRegressor()\n",
        "resultado = cross_val_score(modelo,x,y,cv = kfold)\n",
        "\n",
        "print(\"Coeficiente de determinação R2: \", resultado.mean())"
      ],
      "metadata": {
        "execution": {
          "iopub.status.busy": "2022-10-20T19:08:22.157012Z",
          "iopub.execute_input": "2022-10-20T19:08:22.157600Z",
          "iopub.status.idle": "2022-10-20T19:08:23.219097Z",
          "shell.execute_reply.started": "2022-10-20T19:08:22.157548Z",
          "shell.execute_reply": "2022-10-20T19:08:23.218238Z"
        },
        "trusted": true,
        "colab": {
          "base_uri": "https://localhost:8080/"
        },
        "id": "KySF5doSzrLe",
        "outputId": "3e1bdde2-0d46-4573-b9fc-5f61fbfea2e7"
      },
      "execution_count": 3,
      "outputs": [
        {
          "output_type": "stream",
          "name": "stdout",
          "text": [
            "Coeficiente de determinação R2:  0.5263824141860859\n"
          ]
        }
      ]
    },
    {
      "cell_type": "code",
      "source": [
        "import numpy as np\n",
        "from sklearn.tree import DecisionTreeRegressor\n",
        "from sklearn.model_selection import GridSearchCV\n",
        "\n",
        "minimos_split = np.array([2,3,4,5,6,7])\n",
        "maximo_nivel = np.array([3,4,5,6,7,9,11])\n",
        "algoritmo = ['mse', 'friedman_mse', 'mae']\n",
        "valores_grid = {'min_samples_split': minimos_split, 'max_depth': maximo_nivel, 'criterion': algoritmo}\n",
        "\n",
        "modelo1 = DecisionTreeRegressor()\n",
        "\n",
        "gridDecisionTree = GridSearchCV(estimator = modelo1, param_grid = valores_grid, cv = 5)\n",
        "gridDecisionTree.fit(x,y)\n",
        "\n",
        "print('Mínimo split: ', gridDecisionTree.best_estimator_.min_samples_split)\n",
        "print('Máxima profundidade: ', gridDecisionTree.best_estimator_.max_depth)\n",
        "print('Algoritmo escolhido: ', gridDecisionTree.best_estimator_.criterion)\n",
        "print('Coeficiente de determinação R2: ', gridDecisionTree.best_score_)"
      ],
      "metadata": {
        "execution": {
          "iopub.status.busy": "2022-10-20T19:08:23.221306Z",
          "iopub.execute_input": "2022-10-20T19:08:23.222188Z",
          "iopub.status.idle": "2022-10-20T19:08:27.252758Z",
          "shell.execute_reply.started": "2022-10-20T19:08:23.222136Z",
          "shell.execute_reply": "2022-10-20T19:08:27.251865Z"
        },
        "trusted": true,
        "colab": {
          "base_uri": "https://localhost:8080/"
        },
        "id": "n3NpVRhrzrLg",
        "outputId": "954e2205-c828-4840-846c-ac75049b91de"
      },
      "execution_count": 4,
      "outputs": [
        {
          "output_type": "stream",
          "name": "stdout",
          "text": [
            "Mínimo split:  3\n",
            "Máxima profundidade:  4\n",
            "Algoritmo escolhido:  mae\n",
            "Coeficiente de determinação R2:  0.7147172566725533\n"
          ]
        }
      ]
    },
    {
      "cell_type": "code",
      "source": [
        "import numpy as np\n",
        "from sklearn.tree import DecisionTreeRegressor\n",
        "from sklearn.model_selection import GridSearchCV\n",
        "\n",
        "minimos_split = np.array([2,3,4,5,6,7])\n",
        "maximo_nivel = np.array([3,4,5,6,7,9,11])\n",
        "algoritmo = ['mse', 'friedman_mse', 'mae']\n",
        "valores_grid = {'min_samples_split': minimos_split, 'max_depth': maximo_nivel, 'criterion': algoritmo}\n",
        "\n",
        "modelo2 = DecisionTreeRegressor()\n",
        "\n",
        "gridDecisionTree = GridSearchCV(estimator = modelo2, param_grid = valores_grid, cv = 5, scoring = 'neg_mean_squared_error')\n",
        "gridDecisionTree.fit(x,y)\n",
        "\n",
        "print('Mínimo split: ', gridDecisionTree.best_estimator_.min_samples_split)\n",
        "print('Máxima profundidade: ', gridDecisionTree.best_estimator_.max_depth)\n",
        "print('Algoritmo escolhido: ', gridDecisionTree.best_estimator_.criterion)\n",
        "print('Coeficiente de determinação R2: ', gridDecisionTree.best_score_)"
      ],
      "metadata": {
        "execution": {
          "iopub.status.busy": "2022-10-20T19:08:27.253887Z",
          "iopub.execute_input": "2022-10-20T19:08:27.254127Z",
          "iopub.status.idle": "2022-10-20T19:08:31.207318Z",
          "shell.execute_reply.started": "2022-10-20T19:08:27.254099Z",
          "shell.execute_reply": "2022-10-20T19:08:31.206515Z"
        },
        "trusted": true,
        "colab": {
          "base_uri": "https://localhost:8080/"
        },
        "id": "dh9B9F4WzrLi",
        "outputId": "1c52e7f2-ce72-4785-adfe-82935ee538a2"
      },
      "execution_count": 5,
      "outputs": [
        {
          "output_type": "stream",
          "name": "stdout",
          "text": [
            "Mínimo split:  5\n",
            "Máxima profundidade:  4\n",
            "Algoritmo escolhido:  mse\n",
            "Coeficiente de determinação R2:  -0.00586836648774913\n"
          ]
        }
      ]
    },
    {
      "cell_type": "code",
      "source": [
        "from sklearn.model_selection import cross_val_score\n",
        "from sklearn.model_selection import KFold\n",
        "from sklearn.tree import DecisionTreeRegressor\n",
        "\n",
        "kfold = KFold(n_splits = 5)\n",
        "\n",
        "modelo3 = DecisionTreeRegressor()\n",
        "resultado1 = cross_val_score(modelo3,x,y,cv = kfold, scoring = 'neg_mean_squared_error')\n",
        "\n",
        "print('Erro absoluto médio: ', resultado1.mean())"
      ],
      "metadata": {
        "execution": {
          "iopub.status.busy": "2022-10-20T19:08:31.208452Z",
          "iopub.execute_input": "2022-10-20T19:08:31.208756Z",
          "iopub.status.idle": "2022-10-20T19:08:31.243543Z",
          "shell.execute_reply.started": "2022-10-20T19:08:31.208728Z",
          "shell.execute_reply": "2022-10-20T19:08:31.242721Z"
        },
        "trusted": true,
        "colab": {
          "base_uri": "https://localhost:8080/"
        },
        "id": "l4rGtU_-zrLl",
        "outputId": "2acb79f4-9502-4808-9768-910c59c7e2d7"
      },
      "execution_count": 6,
      "outputs": [
        {
          "output_type": "stream",
          "name": "stdout",
          "text": [
            "Erro absoluto médio:  -0.008914000000000002\n"
          ]
        }
      ]
    },
    {
      "cell_type": "code",
      "source": [
        "from sklearn.model_selection import train_test_split\n",
        "from sklearn.metrics import median_absolute_error\n",
        "\n",
        "x_treino, x_teste, y_treino, y_teste = train_test_split(x,y,test_size = 0.3)\n",
        "\n",
        "modelo4 = DecisionTreeRegressor()\n",
        "modelo4.fit(x_treino,y_treino)\n",
        "\n",
        "predicoes = modelo4.predict(x_teste)\n",
        "erro = median_absolute_error(y_teste, predicoes)\n",
        "print('Erro absoluto mediano: ', erro)"
      ],
      "metadata": {
        "execution": {
          "iopub.status.busy": "2022-10-20T19:08:31.244813Z",
          "iopub.execute_input": "2022-10-20T19:08:31.245036Z",
          "iopub.status.idle": "2022-10-20T19:08:31.256103Z",
          "shell.execute_reply.started": "2022-10-20T19:08:31.245010Z",
          "shell.execute_reply": "2022-10-20T19:08:31.255160Z"
        },
        "trusted": true,
        "colab": {
          "base_uri": "https://localhost:8080/"
        },
        "id": "KEjp4LGyzrLo",
        "outputId": "79cfd5fa-1175-4079-b4ca-4998e77797d9"
      },
      "execution_count": 7,
      "outputs": [
        {
          "output_type": "stream",
          "name": "stdout",
          "text": [
            "Erro absoluto mediano:  0.04999999999999993\n"
          ]
        }
      ]
    }
  ]
}